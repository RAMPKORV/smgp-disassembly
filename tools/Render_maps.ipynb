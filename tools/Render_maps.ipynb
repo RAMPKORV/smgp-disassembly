{
 "cells": [
  {
   "cell_type": "code",
   "execution_count": null,
   "metadata": {},
   "outputs": [],
   "source": [
    "import numpy as np\n",
    "import matplotlib.pyplot as plt\n",
    "import util"
   ]
  },
  {
   "cell_type": "code",
   "execution_count": null,
   "metadata": {},
   "outputs": [],
   "source": [
    "smgp = util.SMGP('../smgp.asm')\n",
    "tracks = smgp.extract_track_data()"
   ]
  },
  {
   "cell_type": "code",
   "execution_count": null,
   "metadata": {},
   "outputs": [],
   "source": [
    "def render_slope_data(track_data):\n",
    "    slope_data_loc = util.extract_track_data_part('slope data', track_data)\n",
    "    slope_data = smgp.extract_loc_data(slope_data_loc)\n",
    "    slope_derivative = np.cumsum(list(util.rle_decode(util.parse_slope_data(slope_data))))\n",
    "    return np.cumsum(slope_derivative)"
   ]
  },
  {
   "cell_type": "code",
   "execution_count": null,
   "metadata": {
    "scrolled": false
   },
   "outputs": [],
   "source": [
    "fig, ax = plt.subplots(len(tracks), 1, figsize=(13,28))\n",
    "\n",
    "i=0\n",
    "for name, track_data in tracks.items():\n",
    "    ax[i].plot(render_slope_data(track_data))\n",
    "    ax[i].set_title(name)\n",
    "    i+=1\n",
    "\n",
    "plt.tight_layout()\n",
    "plt.show()"
   ]
  },
  {
   "cell_type": "markdown",
   "metadata": {},
   "source": [
    "### Curve"
   ]
  },
  {
   "cell_type": "code",
   "execution_count": null,
   "metadata": {},
   "outputs": [],
   "source": [
    "curve_data_loc = util.extract_track_data_part('curve data', tracks['Hungary'])\n",
    "curve_data = smgp.extract_loc_data(curve_data_loc)\n",
    "util.parse_curve_data(curve_data)"
   ]
  },
  {
   "cell_type": "code",
   "execution_count": null,
   "metadata": {},
   "outputs": [],
   "source": [
    "# Nonlinear transformation of curve sharpness to try and make it match up with minimap\n",
    "\n",
    "def transform_exp(x):\n",
    "    turn_factor = 3.5 # 8.5\n",
    "    if x == 0:\n",
    "        return 0\n",
    "    elif x < 0:\n",
    "        return -np.exp(-x/turn_factor)+1\n",
    "    else:\n",
    "        return np.exp(x/turn_factor)-1\n",
    "\n",
    "def transform_poly(x):\n",
    "    turn_factor = 16 # 4.5\n",
    "    if x == 0:\n",
    "        return 0\n",
    "    elif x < 0:\n",
    "        return -(-x/47)**turn_factor\n",
    "    else:\n",
    "        return (x/47)**turn_factor\n",
    "\n",
    "def transform(rle):\n",
    "    return [(length, transform_poly(v)) for length, v in rle]\n",
    "\n",
    "accumulated_turning = np.cumsum(list(util.rle_decode(transform(util.parse_curve_data(curve_data)))))"
   ]
  },
  {
   "cell_type": "code",
   "execution_count": null,
   "metadata": {},
   "outputs": [],
   "source": [
    "turn90 = 23*transform_poly(47)\n",
    "\n",
    "plt.plot(\n",
    "    np.cumsum(np.sin(accumulated_turning/turn90*np.pi/2)),\n",
    "    np.cumsum(np.cos(accumulated_turning/turn90*np.pi/2))\n",
    ")\n",
    "plt.plot(0, 0, 'X')\n",
    "plt.gca().set_aspect('equal')\n",
    "plt.show()"
   ]
  },
  {
   "cell_type": "code",
   "execution_count": null,
   "metadata": {},
   "outputs": [],
   "source": [
    "plt.plot(np.exp(np.arange(48)/8.35)/np.exp(47/8.35))\n",
    "plt.plot(np.linspace(0, 1, 48)**4.5)"
   ]
  }
 ],
 "metadata": {
  "kernelspec": {
   "display_name": "Python 3",
   "language": "python",
   "name": "python3"
  },
  "language_info": {
   "codemirror_mode": {
    "name": "ipython",
    "version": 3
   },
   "file_extension": ".py",
   "mimetype": "text/x-python",
   "name": "python",
   "nbconvert_exporter": "python",
   "pygments_lexer": "ipython3",
   "version": "3.7.14"
  }
 },
 "nbformat": 4,
 "nbformat_minor": 4
}
