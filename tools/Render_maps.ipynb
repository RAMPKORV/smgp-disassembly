{
 "cells": [
  {
   "cell_type": "code",
   "execution_count": null,
   "metadata": {},
   "outputs": [],
   "source": [
    "import numpy as np\n",
    "import matplotlib.pyplot as plt\n",
    "import util"
   ]
  },
  {
   "cell_type": "code",
   "execution_count": null,
   "metadata": {},
   "outputs": [],
   "source": [
    "smgp = util.SMGP('../smgp.asm')\n",
    "tracks = smgp.extract_track_data()"
   ]
  },
  {
   "cell_type": "code",
   "execution_count": null,
   "metadata": {},
   "outputs": [],
   "source": [
    "def get_curve_rles(track_name):\n",
    "    curve_data_loc = util.extract_track_data_part('curve data', tracks[track_name])\n",
    "    curve_data = smgp.extract_loc_data(curve_data_loc)\n",
    "    return util.parse_curve_data(curve_data)"
   ]
  },
  {
   "cell_type": "code",
   "execution_count": null,
   "metadata": {},
   "outputs": [],
   "source": [
    "def parse_rotations(rles):\n",
    "    rotation = 0\n",
    "    rotations = []\n",
    "    for length, curve, total_rot in rles:\n",
    "        if curve > 0:\n",
    "            total_rot = -total_rot\n",
    "        rotations += list(np.linspace(rotation, rotation+total_rot, length+1)[1:])\n",
    "        rotation = rotations[-1]\n",
    "    rotations = np.mod(rotations, 1024)\n",
    "    return rotations"
   ]
  },
  {
   "cell_type": "code",
   "execution_count": null,
   "metadata": {},
   "outputs": [],
   "source": [
    "# Debug same as memory\n",
    "\n",
    "def chunks(l, n):\n",
    "    for i in range(0, len(l), n):\n",
    "        yield l[i:i + n]\n",
    "\n",
    "for chunk in chunks([hex(int(r))[2:].zfill(4) for r in parse_rotations(get_curve_rles('USA'))], 8):\n",
    "    print(' '.join(chunk))"
   ]
  },
  {
   "cell_type": "markdown",
   "metadata": {},
   "source": [
    "### Render"
   ]
  },
  {
   "cell_type": "code",
   "execution_count": null,
   "metadata": {},
   "outputs": [],
   "source": [
    "def get_curve_radians(track_name):\n",
    "    rotations = parse_rotations(get_curve_rles(track_name))\n",
    "    rotations = rotations/1024*np.pi*2\n",
    "    return -rotations"
   ]
  },
  {
   "cell_type": "code",
   "execution_count": null,
   "metadata": {},
   "outputs": [],
   "source": [
    "fig, axes = plt.subplots(4, 4, figsize=(20, 20))\n",
    "\n",
    "for ax, track_name in zip(axes.flatten(), tracks.keys()):\n",
    "    rotations = get_curve_radians(track_name)\n",
    "    ax.plot(\n",
    "        np.cumsum(np.sin(rotations)),\n",
    "        np.cumsum(np.cos(rotations))\n",
    "    )\n",
    "    ax.plot(0, 0, 'X')\n",
    "    ax.set_title(track_name)\n",
    "    ax.set_aspect('equal')\n",
    "\n",
    "plt.tight_layout()\n",
    "plt.show()"
   ]
  }
 ],
 "metadata": {
  "kernelspec": {
   "display_name": "Python 3",
   "language": "python",
   "name": "python3"
  },
  "language_info": {
   "codemirror_mode": {
    "name": "ipython",
    "version": 3
   },
   "file_extension": ".py",
   "mimetype": "text/x-python",
   "name": "python",
   "nbconvert_exporter": "python",
   "pygments_lexer": "ipython3",
   "version": "3.7.14"
  }
 },
 "nbformat": 4,
 "nbformat_minor": 4
}
