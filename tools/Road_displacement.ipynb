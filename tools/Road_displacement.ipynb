{
 "cells": [
  {
   "cell_type": "code",
   "execution_count": null,
   "metadata": {},
   "outputs": [],
   "source": [
    "import numpy as np\n",
    "import matplotlib.pyplot as plt\n",
    "import util\n",
    "import re"
   ]
  },
  {
   "cell_type": "code",
   "execution_count": null,
   "metadata": {},
   "outputs": [],
   "source": [
    "smgp = util.SMGP('../smgp.asm')"
   ]
  },
  {
   "cell_type": "code",
   "execution_count": null,
   "metadata": {},
   "outputs": [],
   "source": [
    "road_displacement_table = smgp.extract_loc_data('Road_displacement_table', extract_bytes=False)\n",
    "road_displacement_table = re.findall('loc_[0-9A-F]+', ''.join(road_displacement_table))"
   ]
  },
  {
   "cell_type": "code",
   "execution_count": null,
   "metadata": {},
   "outputs": [],
   "source": [
    "parsed = []\n",
    "for entry in road_displacement_table:\n",
    "    result = [util.parse_signed_word(s) for s in smgp.extract_loc_data(entry)]\n",
    "    if result[-1] == -1:\n",
    "        result = result[:-1]\n",
    "    parsed.append(result)\n",
    "\n",
    "parsed2 = [list(np.cumsum(v)) for v in parsed]"
   ]
  },
  {
   "cell_type": "code",
   "execution_count": null,
   "metadata": {},
   "outputs": [],
   "source": [
    "for v in parsed2:\n",
    "    plt.plot(v)\n",
    "plt.ylim([0, 100])\n",
    "plt.xlim([0, 10])\n",
    "plt.show()"
   ]
  },
  {
   "cell_type": "code",
   "execution_count": null,
   "metadata": {},
   "outputs": [],
   "source": [
    "fig, axes = plt.subplots(4,2, figsize=(13,13))\n",
    "\n",
    "idx = 0\n",
    "for row in axes:\n",
    "    for ax in row:\n",
    "        for n in range(6):\n",
    "            if idx >= len(parsed):\n",
    "                break\n",
    "            ax.plot(parsed2[idx], label=idx+1)\n",
    "            idx +=1\n",
    "        ax.legend()\n",
    "        ax.set_ylim([0, 1000])\n",
    "\n",
    "plt.tight_layout()\n",
    "plt.show()"
   ]
  },
  {
   "cell_type": "code",
   "execution_count": null,
   "metadata": {},
   "outputs": [],
   "source": [
    "print('coefs = ['+', '.join([str(v[14]) for v in parsed2])+', 0]')"
   ]
  },
  {
   "cell_type": "code",
   "execution_count": null,
   "metadata": {},
   "outputs": [],
   "source": [
    "for i in range(10):\n",
    "    plt.plot([v[i] for v in parsed2][::-1])\n",
    "plt.show()"
   ]
  }
 ],
 "metadata": {
  "kernelspec": {
   "display_name": "Python 3",
   "language": "python",
   "name": "python3"
  },
  "language_info": {
   "codemirror_mode": {
    "name": "ipython",
    "version": 3
   },
   "file_extension": ".py",
   "mimetype": "text/x-python",
   "name": "python",
   "nbconvert_exporter": "python",
   "pygments_lexer": "ipython3",
   "version": "3.7.14"
  }
 },
 "nbformat": 4,
 "nbformat_minor": 4
}
