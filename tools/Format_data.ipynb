{
 "cells": [
  {
   "cell_type": "markdown",
   "metadata": {},
   "source": [
    "#### Settings"
   ]
  },
  {
   "cell_type": "code",
   "execution_count": null,
   "metadata": {},
   "outputs": [],
   "source": [
    "target_loc = 'loc_73C16'\n",
    "formatting = 'SLOPE'"
   ]
  },
  {
   "cell_type": "markdown",
   "metadata": {},
   "source": [
    "#### Run script"
   ]
  },
  {
   "cell_type": "code",
   "execution_count": null,
   "metadata": {},
   "outputs": [],
   "source": [
    "import re\n",
    "\n",
    "byte_pattern = re.compile('\\\\$[0-9A-F]{2}')"
   ]
  },
  {
   "cell_type": "code",
   "execution_count": null,
   "metadata": {},
   "outputs": [],
   "source": [
    "# Extract all byte literals in target_loc\n",
    "\n",
    "loc_found = False\n",
    "byte_list = []\n",
    "\n",
    "with open('../smgp.asm') as f:\n",
    "    for line in f.readlines():\n",
    "        if line.startswith(target_loc):\n",
    "            loc_found = True\n",
    "        elif loc_found:\n",
    "            if line.startswith('loc'): # end of target_loc\n",
    "                break\n",
    "            byte_list += byte_pattern.findall(line)"
   ]
  },
  {
   "cell_type": "code",
   "execution_count": null,
   "metadata": {},
   "outputs": [],
   "source": [
    "def calculate_curve_chunk_size(offset):\n",
    "    bytes_left = len(byte_list) - offset\n",
    "    if bytes_left <= 3:\n",
    "        return bytes_left\n",
    "    if byte_list[offset+2] == '$00':\n",
    "        return 3\n",
    "    return 5\n",
    "\n",
    "def calculate_slope_chunk_size(offset):\n",
    "    bytes_left = len(byte_list) - offset\n",
    "    if bytes_left <= 3:\n",
    "        return bytes_left\n",
    "    if byte_list[offset+2] == '$00':\n",
    "        return 3\n",
    "    return 4\n",
    "\n",
    "calculate_chunk_size = {\n",
    "    'CURVE': calculate_curve_chunk_size,\n",
    "    'SLOPE': calculate_slope_chunk_size\n",
    "}"
   ]
  },
  {
   "cell_type": "code",
   "execution_count": null,
   "metadata": {},
   "outputs": [],
   "source": [
    "# Format in chunks as assembly code reads it\n",
    "\n",
    "offset = 0\n",
    "\n",
    "if formatting == 'SLOPE':\n",
    "    print('\\tdc.b\\t' + byte_list[0])\n",
    "    offset = 1\n",
    "\n",
    "while offset < len(byte_list):\n",
    "    bytes_left = len(byte_list)-offset\n",
    "    chunk_size = calculate_chunk_size[formatting](offset)\n",
    "    print('\\tdc.b\\t' + ', '.join(byte_list[offset:offset+chunk_size]))\n",
    "    offset += chunk_size"
   ]
  }
 ],
 "metadata": {
  "kernelspec": {
   "display_name": "Python 3",
   "language": "python",
   "name": "python3"
  },
  "language_info": {
   "codemirror_mode": {
    "name": "ipython",
    "version": 3
   },
   "file_extension": ".py",
   "mimetype": "text/x-python",
   "name": "python",
   "nbconvert_exporter": "python",
   "pygments_lexer": "ipython3",
   "version": "3.7.14"
  }
 },
 "nbformat": 4,
 "nbformat_minor": 4
}
