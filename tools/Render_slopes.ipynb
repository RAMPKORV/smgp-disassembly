{
 "cells": [
  {
   "cell_type": "code",
   "execution_count": null,
   "metadata": {},
   "outputs": [],
   "source": [
    "import numpy as np\n",
    "import matplotlib.pyplot as plt\n",
    "import util"
   ]
  },
  {
   "cell_type": "code",
   "execution_count": null,
   "metadata": {},
   "outputs": [],
   "source": [
    "smgp = util.SMGP('../smgp.asm')\n",
    "tracks = smgp.extract_track_data()"
   ]
  },
  {
   "cell_type": "code",
   "execution_count": null,
   "metadata": {},
   "outputs": [],
   "source": [
    "def render_slope_data(track_data):\n",
    "    slope_data_loc = util.extract_track_data_part('slope data', track_data)\n",
    "    slope_data = smgp.extract_loc_data(slope_data_loc)\n",
    "    slope_derivative = np.cumsum(list(util.rle_decode(util.parse_slope_data(slope_data))))\n",
    "    return np.cumsum(slope_derivative)"
   ]
  },
  {
   "cell_type": "code",
   "execution_count": null,
   "metadata": {},
   "outputs": [],
   "source": [
    "# TODO base on background vertical displacement for better results, as with render maps"
   ]
  },
  {
   "cell_type": "code",
   "execution_count": null,
   "metadata": {
    "scrolled": false
   },
   "outputs": [],
   "source": [
    "fig, ax = plt.subplots(len(tracks), 1, figsize=(13,28))\n",
    "\n",
    "i=0\n",
    "for name, track_data in tracks.items():\n",
    "    ax[i].plot(render_slope_data(track_data))\n",
    "    ax[i].set_title(name)\n",
    "    i+=1\n",
    "\n",
    "plt.tight_layout()\n",
    "plt.show()"
   ]
  }
 ],
 "metadata": {
  "kernelspec": {
   "display_name": "Python 3",
   "language": "python",
   "name": "python3"
  },
  "language_info": {
   "codemirror_mode": {
    "name": "ipython",
    "version": 3
   },
   "file_extension": ".py",
   "mimetype": "text/x-python",
   "name": "python",
   "nbconvert_exporter": "python",
   "pygments_lexer": "ipython3",
   "version": "3.7.14"
  }
 },
 "nbformat": 4,
 "nbformat_minor": 4
}
